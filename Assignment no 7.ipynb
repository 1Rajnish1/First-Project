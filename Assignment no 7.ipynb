{
 "cells": [
  {
   "cell_type": "code",
   "execution_count": 1,
   "id": "9ddb1ef9",
   "metadata": {},
   "outputs": [
    {
     "name": "stdout",
     "output_type": "stream",
     "text": [
      "Enter the  number6\n",
      "Number is  not divisible by 5\n"
     ]
    }
   ],
   "source": [
    "# Write a program which contains one function that accept one number from user and returns true \n",
    "# if number is divisible by 5 otherwise return false.\n",
    "\n",
    "\n",
    "def Number(x):\n",
    "        \n",
    "          if (x%5 ==0):\n",
    "                    print(\"Number is divisible by 5\")\n",
    "          else:\n",
    "                    print(\"Number is  not divisible by 5\")\n",
    "\n",
    "\n",
    "x=(int(input(\"Enter the  number\")))\n",
    "Number(x)"
   ]
  },
  {
   "cell_type": "code",
   "execution_count": null,
   "id": "851abba3",
   "metadata": {},
   "outputs": [],
   "source": []
  }
 ],
 "metadata": {
  "kernelspec": {
   "display_name": "Python 3 (ipykernel)",
   "language": "python",
   "name": "python3"
  },
  "language_info": {
   "codemirror_mode": {
    "name": "ipython",
    "version": 3
   },
   "file_extension": ".py",
   "mimetype": "text/x-python",
   "name": "python",
   "nbconvert_exporter": "python",
   "pygments_lexer": "ipython3",
   "version": "3.10.9"
  }
 },
 "nbformat": 4,
 "nbformat_minor": 5
}
