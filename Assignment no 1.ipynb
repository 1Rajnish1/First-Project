{
 "cells": [
  {
   "cell_type": "code",
   "execution_count": 3,
   "id": "2b709981",
   "metadata": {},
   "outputs": [
    {
     "name": "stdout",
     "output_type": "stream",
     "text": [
      "Hello from Fun\n"
     ]
    }
   ],
   "source": [
    "#Write a program which contains one function named as Fun(). That function should display “Hello from Fun” on console\n",
    "\n",
    "def Fun():\n",
    "          print(\"Hello from Fun\")\n",
    "\n",
    "Fun()"
   ]
  },
  {
   "cell_type": "code",
   "execution_count": null,
   "id": "79d41b04",
   "metadata": {},
   "outputs": [],
   "source": []
  }
 ],
 "metadata": {
  "kernelspec": {
   "display_name": "Python 3 (ipykernel)",
   "language": "python",
   "name": "python3"
  },
  "language_info": {
   "codemirror_mode": {
    "name": "ipython",
    "version": 3
   },
   "file_extension": ".py",
   "mimetype": "text/x-python",
   "name": "python",
   "nbconvert_exporter": "python",
   "pygments_lexer": "ipython3",
   "version": "3.10.9"
  }
 },
 "nbformat": 4,
 "nbformat_minor": 5
}
