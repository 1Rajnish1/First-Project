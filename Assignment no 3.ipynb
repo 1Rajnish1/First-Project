{
 "cells": [
  {
   "cell_type": "code",
   "execution_count": 1,
   "id": "b2c43e60",
   "metadata": {},
   "outputs": [
    {
     "name": "stdout",
     "output_type": "stream",
     "text": [
      "Enter 1st number4\n",
      "Enter 2nd number5\n",
      "Addition is= 9\n"
     ]
    }
   ],
   "source": [
    "#Write a program which contains one function named as Add() which accepts two numbers from user and return addition of that two numbers.\n",
    "\n",
    "\n",
    "def Add(x,y):\n",
    "\n",
    "          return x+y\n",
    "\n",
    "x=(int(input(\"Enter 1st number\")))\n",
    "y=(int(input(\"Enter 2nd number\")))\n",
    "print(\"Addition is=\",+Add(x,y))"
   ]
  }
 ],
 "metadata": {
  "kernelspec": {
   "display_name": "Python 3 (ipykernel)",
   "language": "python",
   "name": "python3"
  },
  "language_info": {
   "codemirror_mode": {
    "name": "ipython",
    "version": 3
   },
   "file_extension": ".py",
   "mimetype": "text/x-python",
   "name": "python",
   "nbconvert_exporter": "python",
   "pygments_lexer": "ipython3",
   "version": "3.10.9"
  }
 },
 "nbformat": 4,
 "nbformat_minor": 5
}
