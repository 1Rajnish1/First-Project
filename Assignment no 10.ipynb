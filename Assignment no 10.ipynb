{
 "cells": [
  {
   "cell_type": "code",
   "execution_count": 2,
   "id": "0fa3ce06",
   "metadata": {},
   "outputs": [
    {
     "name": "stdout",
     "output_type": "stream",
     "text": [
      "Enter  string PYTHON\n",
      "Length of stirng= 6\n"
     ]
    }
   ],
   "source": [
    "#Write a program which accept name from user and display length of its name.\n",
    "\n",
    "\n",
    "def String_Length(x):\n",
    "          j=0\n",
    "          for i in x:\n",
    "                    j=j+1\n",
    "          print(\"Length of stirng=\",+j)\n",
    "\n",
    "x=input(\"Enter  string \")\n",
    "String_Length(x)"
   ]
  },
  {
   "cell_type": "code",
   "execution_count": null,
   "id": "00351872",
   "metadata": {},
   "outputs": [],
   "source": []
  }
 ],
 "metadata": {
  "kernelspec": {
   "display_name": "Python 3 (ipykernel)",
   "language": "python",
   "name": "python3"
  },
  "language_info": {
   "codemirror_mode": {
    "name": "ipython",
    "version": 3
   },
   "file_extension": ".py",
   "mimetype": "text/x-python",
   "name": "python",
   "nbconvert_exporter": "python",
   "pygments_lexer": "ipython3",
   "version": "3.10.9"
  }
 },
 "nbformat": 4,
 "nbformat_minor": 5
}
