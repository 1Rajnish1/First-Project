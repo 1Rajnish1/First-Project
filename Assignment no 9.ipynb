{
 "cells": [
  {
   "cell_type": "code",
   "execution_count": 2,
   "id": "e6974169",
   "metadata": {},
   "outputs": [
    {
     "name": "stdout",
     "output_type": "stream",
     "text": [
      "Enter the  number10\n",
      "2 4 6 8 10 12 14 16 18 20 "
     ]
    }
   ],
   "source": [
    "#Write a program which display first 10 even numbers on screen.\n",
    "\n",
    "def Even_Number(x):\n",
    "          i=j=1\n",
    "          while j<=x:\n",
    "                    if i%2==0:\n",
    "                              print(i,end=\" \")\n",
    "                              j=j+1\n",
    "                    i=i+1\n",
    "\n",
    "x=(int(input(\"Enter the  number\")))\n",
    "Even_Number(x)"
   ]
  },
  {
   "cell_type": "code",
   "execution_count": null,
   "id": "c1f5d9b4",
   "metadata": {},
   "outputs": [],
   "source": []
  }
 ],
 "metadata": {
  "kernelspec": {
   "display_name": "Python 3 (ipykernel)",
   "language": "python",
   "name": "python3"
  },
  "language_info": {
   "codemirror_mode": {
    "name": "ipython",
    "version": 3
   },
   "file_extension": ".py",
   "mimetype": "text/x-python",
   "name": "python",
   "nbconvert_exporter": "python",
   "pygments_lexer": "ipython3",
   "version": "3.10.9"
  }
 },
 "nbformat": 4,
 "nbformat_minor": 5
}
