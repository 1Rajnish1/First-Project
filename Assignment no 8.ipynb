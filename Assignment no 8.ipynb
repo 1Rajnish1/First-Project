{
 "cells": [
  {
   "cell_type": "code",
   "execution_count": 1,
   "id": "9daec91b",
   "metadata": {},
   "outputs": [
    {
     "name": "stdout",
     "output_type": "stream",
     "text": [
      "Enter the  number50\n",
      "* * * * * * * * * * * * * * * * * * * * * * * * * * * * * * * * * * * * * * * * * * * * * * * * * * "
     ]
    }
   ],
   "source": [
    "#Write a program which accept number from user and print that number of “*” on screen.\n",
    "\n",
    "\n",
    "def PrintPattern(x):\n",
    "          for i in range(x):\n",
    "                    print(\"*\",end=\" \")\n",
    "\n",
    "\n",
    "x=(int(input(\"Enter the  number\")))\n",
    "PrintPattern(x)"
   ]
  },
  {
   "cell_type": "code",
   "execution_count": null,
   "id": "7e03793d",
   "metadata": {},
   "outputs": [],
   "source": []
  }
 ],
 "metadata": {
  "kernelspec": {
   "display_name": "Python 3 (ipykernel)",
   "language": "python",
   "name": "python3"
  },
  "language_info": {
   "codemirror_mode": {
    "name": "ipython",
    "version": 3
   },
   "file_extension": ".py",
   "mimetype": "text/x-python",
   "name": "python",
   "nbconvert_exporter": "python",
   "pygments_lexer": "ipython3",
   "version": "3.10.9"
  }
 },
 "nbformat": 4,
 "nbformat_minor": 5
}
