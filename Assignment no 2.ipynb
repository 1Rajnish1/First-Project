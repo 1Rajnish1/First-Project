{
 "cells": [
  {
   "cell_type": "code",
   "execution_count": 2,
   "id": "62729a62",
   "metadata": {},
   "outputs": [
    {
     "name": "stdout",
     "output_type": "stream",
     "text": [
      "please Enter the number5\n",
      "Number is  odd\n"
     ]
    }
   ],
   "source": [
    "#  Write a program which contains one function named as ChkNum() which accept one parameter as number. \n",
    "#  If number is even then it should display “Even number” otherwise  display “Odd number” on console.\n",
    "\n",
    "\n",
    "def ChkNum(x):\n",
    "        \n",
    "          if (x%2 ==0):\n",
    "                    print(\"Number is even\")\n",
    "          else:\n",
    "                    print(\"Number is  odd\")\n",
    "\n",
    "\n",
    "x=(int(input(\"please Enter the number\")))\n",
    "ChkNum(x)"
   ]
  },
  {
   "cell_type": "code",
   "execution_count": null,
   "id": "bc277549",
   "metadata": {},
   "outputs": [],
   "source": []
  }
 ],
 "metadata": {
  "kernelspec": {
   "display_name": "Python 3 (ipykernel)",
   "language": "python",
   "name": "python3"
  },
  "language_info": {
   "codemirror_mode": {
    "name": "ipython",
    "version": 3
   },
   "file_extension": ".py",
   "mimetype": "text/x-python",
   "name": "python",
   "nbconvert_exporter": "python",
   "pygments_lexer": "ipython3",
   "version": "3.10.9"
  }
 },
 "nbformat": 4,
 "nbformat_minor": 5
}
