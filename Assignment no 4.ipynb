{
 "cells": [
  {
   "cell_type": "code",
   "execution_count": 1,
   "id": "40151723",
   "metadata": {},
   "outputs": [
    {
     "name": "stdout",
     "output_type": "stream",
     "text": [
      "Marvelous\n",
      "Marvelous\n",
      "Marvelous\n",
      "Marvelous\n",
      "Marvelous\n"
     ]
    }
   ],
   "source": [
    "#Write a program which display 5 times Marvellous on screen.\n",
    "\n",
    "def printname():\n",
    "\tfor i  in range(5):\n",
    "          print(\"Marvelous\")\n",
    "\n",
    "printname()"
   ]
  },
  {
   "cell_type": "code",
   "execution_count": null,
   "id": "c2845346",
   "metadata": {},
   "outputs": [],
   "source": []
  }
 ],
 "metadata": {
  "kernelspec": {
   "display_name": "Python 3 (ipykernel)",
   "language": "python",
   "name": "python3"
  },
  "language_info": {
   "codemirror_mode": {
    "name": "ipython",
    "version": 3
   },
   "file_extension": ".py",
   "mimetype": "text/x-python",
   "name": "python",
   "nbconvert_exporter": "python",
   "pygments_lexer": "ipython3",
   "version": "3.10.9"
  }
 },
 "nbformat": 4,
 "nbformat_minor": 5
}
