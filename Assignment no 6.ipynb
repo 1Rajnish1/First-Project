{
 "cells": [
  {
   "cell_type": "code",
   "execution_count": 4,
   "id": "e84ed0dc",
   "metadata": {},
   "outputs": [
    {
     "name": "stdout",
     "output_type": "stream",
     "text": [
      "Enter the  number6\n",
      "Number is positive\n"
     ]
    }
   ],
   "source": [
    "#Write a program which accept number from user and check whether that number is positive or negative or zero.\n",
    "\n",
    "def check_number(x):\n",
    "        \n",
    "          if x>0:\n",
    "                    print(\"Number is positive\")\n",
    "          elif x<0:\n",
    "                    print(\"Number is  negative\")\n",
    "          elif x==0:\n",
    "                    print(\"Number is  zero\")\n",
    "                \n",
    "x=(int(input(\"Enter the  number\")))\n",
    "check_number(x)"
   ]
  },
  {
   "cell_type": "code",
   "execution_count": null,
   "id": "14b5cff8",
   "metadata": {},
   "outputs": [],
   "source": []
  }
 ],
 "metadata": {
  "kernelspec": {
   "display_name": "Python 3 (ipykernel)",
   "language": "python",
   "name": "python3"
  },
  "language_info": {
   "codemirror_mode": {
    "name": "ipython",
    "version": 3
   },
   "file_extension": ".py",
   "mimetype": "text/x-python",
   "name": "python",
   "nbconvert_exporter": "python",
   "pygments_lexer": "ipython3",
   "version": "3.10.9"
  }
 },
 "nbformat": 4,
 "nbformat_minor": 5
}
